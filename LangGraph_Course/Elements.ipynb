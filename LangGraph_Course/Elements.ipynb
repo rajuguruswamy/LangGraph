{
 "cells": [
  {
   "cell_type": "markdown",
   "id": "a4c691a3",
   "metadata": {},
   "source": [
    "### 1. state  in langgraph\n",
    "the state is a dictionary that contains the current state of the application\n",
    "Analogy : White board\n"
   ]
  },
  {
   "cell_type": "markdown",
   "id": "bf83b7e3",
   "metadata": {},
   "source": [
    "### 2. Nodes in langgraph\n",
    "Nodes are the building blocks of a langgraph. They represent a single step in the graph\n",
    "Nodes are individual functions or operation that perform a specific task\n",
    "each node receieves input , porcess it and returns output or an updated state.\n",
    "#Analogy : Assembly line  stations\n"
   ]
  },
  {
   "cell_type": "markdown",
   "id": "5c7d9c3b",
   "metadata": {},
   "source": [
    "### 3. Graph in langgraph\n",
    "A graph is a collection of nodes that are connected to each other\n",
    "The graph is the overall structure of the application.\n",
    "Analogy : Road map\n"
   ]
  },
  {
   "cell_type": "markdown",
   "id": "1392e52b",
   "metadata": {},
   "source": [
    "### 4. Edges in langgraph\n",
    "Edges are the connections between nodes in a graph and define the flow of execution\n",
    "Analogy : Train tracks"
   ]
  },
  {
   "cell_type": "markdown",
   "id": "4f6d4703",
   "metadata": {},
   "source": [
    "### 5. Conditional Edges in langgraph\n",
    "Conditional edges are used to define the flow of execution based on a condition\n",
    "Analogy :Traffic lights\n"
   ]
  },
  {
   "cell_type": "markdown",
   "id": "ec50b03e",
   "metadata": {},
   "source": [
    "### 6. START node in langgraph\n",
    "The START node is the entry point of the graph and is used to define the starting point of the execution\n",
    "Analogy : Race Start line\n"
   ]
  },
  {
   "cell_type": "markdown",
   "id": "cd0eef1d",
   "metadata": {},
   "source": [
    "### 7. End node in langgraph\n",
    "The End node signifies the conclusion of the workflow in langgraph\n",
    "The end node is the final node in the graph and is used to define the end point of the execution\n",
    "Analogy : Race Finish line"
   ]
  },
  {
   "cell_type": "markdown",
   "id": "d4dcff8d",
   "metadata": {},
   "source": [
    "### 8 Tools in langgraph\n",
    "Tools are specialied function or utilities that nodes can utilize to perform specific tasks such as fetch data from an API or perform calculations\n",
    "they enchance the functionality of nodes by providing additional capabilities\n",
    "Node are part of graph structire and tools are functionalitoies used withing nodes.\n",
    "\n",
    "Analogy : Tools in a toolbox : hammer, screwdriver, wrench, etc."
   ]
  },
  {
   "cell_type": "markdown",
   "id": "1db99399",
   "metadata": {},
   "source": [
    "### 9 ToolNode in langgraph\n",
    "ToolNode is a specialized node that is used to call a tool\n",
    "It connects the tool's output back to to the state so other nodes can use the result\n",
    "Analogy : Operator using a machine in a factory"
   ]
  },
  {
   "cell_type": "markdown",
   "id": "2b4c3097",
   "metadata": {},
   "source": [
    "### 10. StateGraph in langgraph\n",
    "A Stategraph is a class in langgraph used to build and compile the graph structure.\n",
    "It manages the nodes, edges, and overall state, ensuring that the workflow in a unified way and data correctly flow between components.\n",
    "Analogy : blue print of a building"
   ]
  },
  {
   "cell_type": "markdown",
   "id": "13864451",
   "metadata": {},
   "source": [
    "### 11. Runnable in langgraph\n",
    "Runnable in LangGraph is a standardized executable component that performs a specific task with in AI Workflow.\n",
    "It serves as a fundamental building block allowing for us creating modular systems.\n",
    "Analogy  :  lego brick : Just as lego bricks can be snapped to build complex structures, runnables can be combined to create sophisticated AI workflows.\n"
   ]
  },
  {
   "cell_type": "markdown",
   "id": "fb2af6e1",
   "metadata": {},
   "source": [
    "### 12. Message in langgraph\n",
    "Human Message :  Represents input from a user.\n",
    "AI Message : Represents output from the AI.\n",
    "System Message : Represents instructions or context provided to the AI.\n",
    "Tool Message : Represents the output of a tool used in the workflow.\n",
    "function Message : Represents the output of a function used in the workflow."
   ]
  }
 ],
 "metadata": {
  "language_info": {
   "name": "python"
  }
 },
 "nbformat": 4,
 "nbformat_minor": 5
}
