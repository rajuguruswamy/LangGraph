{
 "cells": [
  {
   "cell_type": "markdown",
   "id": "bff89436",
   "metadata": {},
   "source": [
    "### Multiple inputs  graphs\n",
    "\n",
    "Objective  : \n",
    "1. Define a more complex AgentState\n",
    "2. Create a processing node that performs operations on list data\n",
    "3. Setup a lang grah that processes and outputs computed results\n",
    "4. Invoke the graph with structured inputs and retrive outputs\n",
    "\n",
    "Main Goal : learn how to handle multiple inputs\n"
   ]
  },
  {
   "cell_type": "code",
   "execution_count": 1,
   "id": "83b5736c",
   "metadata": {},
   "outputs": [],
   "source": [
    "from typing import TypedDict, List\n",
    "from langgraph.graph import StateGraph\n"
   ]
  },
  {
   "cell_type": "code",
   "execution_count": 11,
   "id": "4fedff87",
   "metadata": {},
   "outputs": [],
   "source": [
    "class AgentState(TypedDict):\n",
    "    values: List[int]\n",
    "    name: str\n",
    "    result: int   \n"
   ]
  },
  {
   "cell_type": "code",
   "execution_count": 12,
   "id": "203a5e05",
   "metadata": {},
   "outputs": [],
   "source": [
    "def process_values(state: AgentState) -> AgentState:\n",
    "    \"\"\"This function handles multiple different inputs\"\"\"\n",
    "    print(state)\n",
    "    state[\"result\"] = f\"Hi there {state['name']}! Your Sum  =  {sum(state['values'])}\"\n",
    "    print(state)\n",
    "    return state\n",
    "\n"
   ]
  },
  {
   "cell_type": "code",
   "execution_count": 13,
   "id": "c90693d4",
   "metadata": {},
   "outputs": [],
   "source": [
    "graph = StateGraph(AgentState)\n",
    "graph.set_entry_point(\"process list\")  # set entry node\n",
    "graph.add_node(\"process list\", process_values)  # add node to the graph\n",
    "graph.set_finish_point(\"process list\")  # set finish node\n",
    "app = graph.compile()  # compile the graph"
   ]
  },
  {
   "cell_type": "code",
   "execution_count": 14,
   "id": "dc7004c0",
   "metadata": {},
   "outputs": [
    {
     "data": {
      "image/png": "[encoded data removed]",
      "text/plain": [
       "<IPython.core.display.Image object>"
      ]
     },
     "metadata": {},
     "output_type": "display_data"
    }
   ],
   "source": [
    "from IPython.display import display,Image\n",
    "display(Image(app.get_graph().draw_mermaid_png()))  # display the graph"
   ]
  },
  {
   "cell_type": "code",
   "execution_count": 15,
   "id": "d37ed03c",
   "metadata": {},
   "outputs": [
    {
     "name": "stdout",
     "output_type": "stream",
     "text": [
      "{'values': [1, 2, 3, 4, 5], 'name': 'Raju'}\n",
      "{'values': [1, 2, 3, 4, 5], 'name': 'Raju', 'result': 'Hi there Raju! Your Sum  =  15'}\n"
     ]
    },
    {
     "data": {
      "text/plain": [
       "'Hi there Raju! Your Sum  =  15'"
      ]
     },
     "execution_count": 15,
     "metadata": {},
     "output_type": "execute_result"
    }
   ],
   "source": [
    "result = app.invoke(AgentState( values=[1, 2, 3, 4, 5], name=\"Raju\")) # invoke the app with initial state\n",
    "result[\"result\"]  # retrieve the result\n"
   ]
  },
  {
   "cell_type": "code",
   "execution_count": null,
   "id": "e6fb76e5",
   "metadata": {},
   "outputs": [],
   "source": []
  },
  {
   "cell_type": "code",
   "execution_count": null,
   "id": "e0ae7413",
   "metadata": {},
   "outputs": [],
   "source": []
  }
 ],
 "metadata": {
  "kernelspec": {
   "display_name": "Python 3",
   "language": "python",
   "name": "python3"
  },
  "language_info": {
   "codemirror_mode": {
    "name": "ipython",
    "version": 3
   },
   "file_extension": ".py",
   "mimetype": "text/x-python",
   "name": "python",
   "nbconvert_exporter": "python",
   "pygments_lexer": "ipython3",
   "version": "3.10.13"
  }
 },
 "nbformat": 4,
 "nbformat_minor": 5
}
