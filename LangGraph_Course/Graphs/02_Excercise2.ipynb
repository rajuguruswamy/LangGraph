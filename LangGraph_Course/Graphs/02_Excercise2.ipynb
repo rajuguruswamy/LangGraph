{
 "cells": [
  {
   "cell_type": "markdown",
   "id": "955092b3",
   "metadata": {},
   "source": [
    "## Exercise for graph II\n",
    "\n",
    "Your task:\n",
    "Create a graph where you pass a single list of integers along with a name and operation , if the operation is a \"+ , you add the elements and if it is a \"*\" , you multiply the elemnet all withing the same node\n",
    "\n",
    "inputs : {\"name\":\"Jack Sparrow\",  \"values\": [1,2,3,4]. \"operation\":\"*\"}\n",
    "output :\"Hi Jack Sparrow , your answer is 24\""
   ]
  },
  {
   "cell_type": "markdown",
   "id": "c1d4ae24",
   "metadata": {},
   "source": []
  },
  {
   "cell_type": "code",
   "execution_count": 2,
   "id": "2646ad19",
   "metadata": {},
   "outputs": [],
   "source": [
    "from typing import List, TypedDict\n",
    "from langgraph.graph import StateGraph"
   ]
  },
  {
   "cell_type": "code",
   "execution_count": 3,
   "id": "046b26e2",
   "metadata": {},
   "outputs": [],
   "source": [
    "# create graph state\n",
    "class AgentState(TypedDict):\n",
    "    name:str\n",
    "    values:List[int]\n",
    "    operation: str\n",
    "    result: str\n",
    "\n",
    "    "
   ]
  },
  {
   "cell_type": "code",
   "execution_count": 4,
   "id": "922d0a9d",
   "metadata": {},
   "outputs": [],
   "source": [
    "# create graph node\n",
    "import math\n",
    "def operation_node(state:AgentState) -> AgentState:\n",
    "    \"\"\" This function perform operation based in the state operation\"\"\"\n",
    "\n",
    "    if state[\"operation\"] == \"+\":\n",
    "        state[\"result\"] = f\"Hi {state['name']}, your answer is {sum(state['values'])}\"\n",
    "    elif state[\"operation\"] == \"*\":\n",
    "        state[\"result\"] = f\"Hi {state['name']}, your answer is { math.prod(state['values'])}\"\n",
    "    else:\n",
    "        state[\"result\"] = f\"Hi {state['name']}, your operation {state['operation']} is not supported\"\n",
    "    \n",
    "    return state\n",
    "\n",
    "    "
   ]
  },
  {
   "cell_type": "code",
   "execution_count": 6,
   "id": "a1c016d3",
   "metadata": {},
   "outputs": [],
   "source": [
    "# create graph \n",
    "garph  = StateGraph(AgentState)\n",
    "garph.set_entry_point(\"operation_node\")  # set entry node\n",
    "garph.add_node(\"operation_node\", operation_node)  # add node to the graph\n",
    "garph.set_finish_point(\"operation_node\")  # set finish node\n",
    "\n",
    "app = garph.compile()  # compile the graph"
   ]
  },
  {
   "cell_type": "code",
   "execution_count": 7,
   "id": "6d8a0aea",
   "metadata": {},
   "outputs": [
    {
     "data": {
      "image/png": "[encoded data removed]",
      "text/plain": [
       "<IPython.core.display.Image object>"
      ]
     },
     "metadata": {},
     "output_type": "display_data"
    }
   ],
   "source": [
    "from IPython.display import display,Image\n",
    "display(Image(app.get_graph().draw_mermaid_png()))  # display the graph"
   ]
  },
  {
   "cell_type": "code",
   "execution_count": 10,
   "id": "219f8b42",
   "metadata": {},
   "outputs": [
    {
     "name": "stdout",
     "output_type": "stream",
     "text": [
      "Hi Jack Sparrow, your answer is 24\n",
      "Hi Jack Sparrow, your answer is 10\n"
     ]
    }
   ],
   "source": [
    "output = app.invoke(AgentState(name=\"Jack Sparrow\", values=[1, 2, 3, 4], operation=\"*\"))  # invoke the app with initial state\n",
    "print(output[\"result\"] ) # retrieve the result\n",
    "\n",
    "output = app.invoke(AgentState(name=\"Jack Sparrow\", values=[1, 2, 3, 4], operation=\"+\"))  # invoke the app with initial state\n",
    "print(output[\"result\"] ) # retrieve the result\n",
    "\n"
   ]
  },
  {
   "cell_type": "code",
   "execution_count": null,
   "id": "5e3f914d",
   "metadata": {},
   "outputs": [],
   "source": []
  },
  {
   "cell_type": "code",
   "execution_count": null,
   "id": "9b837a03",
   "metadata": {},
   "outputs": [],
   "source": []
  },
  {
   "cell_type": "code",
   "execution_count": null,
   "id": "ec9be2b1",
   "metadata": {},
   "outputs": [],
   "source": []
  },
  {
   "cell_type": "code",
   "execution_count": null,
   "id": "2bf8de6d",
   "metadata": {},
   "outputs": [],
   "source": []
  }
 ],
 "metadata": {
  "kernelspec": {
   "display_name": "Python 3",
   "language": "python",
   "name": "python3"
  },
  "language_info": {
   "codemirror_mode": {
    "name": "ipython",
    "version": 3
   },
   "file_extension": ".py",
   "mimetype": "text/x-python",
   "name": "python",
   "nbconvert_exporter": "python",
   "pygments_lexer": "ipython3",
   "version": "3.10.13"
  }
 },
 "nbformat": 4,
 "nbformat_minor": 5
}
