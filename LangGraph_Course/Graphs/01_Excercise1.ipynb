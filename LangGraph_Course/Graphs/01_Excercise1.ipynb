{
 "cells": [
  {
   "cell_type": "markdown",
   "id": "05565de5",
   "metadata": {},
   "source": [
    "# Exercise 1\n",
    "Your Task : \n",
    "Create a personalized complement agent using lang graph\n",
    "\n",
    "input  :  {\"name\" :\"Bob\"}\n",
    "output :  {\"Bob, You're doing an amazing job learning LangGraph\"}\n",
    "\n",
    "hint  : you have to concatinate the state , not replace it."
   ]
  },
  {
   "cell_type": "markdown",
   "id": "5e15f97c",
   "metadata": {},
   "source": [
    "!pip install langgraph"
   ]
  },
  {
   "cell_type": "code",
   "execution_count": 1,
   "id": "aded054b",
   "metadata": {},
   "outputs": [
    {
     "name": "stdout",
     "output_type": "stream",
     "text": [
      "Requirement already satisfied: langgraph in c:\\users\\dilee\\miniconda3\\lib\\site-packages (0.5.1)\n",
      "Requirement already satisfied: xxhash>=3.5.0 in c:\\users\\dilee\\miniconda3\\lib\\site-packages (from langgraph) (3.5.0)\n",
      "Requirement already satisfied: langchain-core>=0.1 in c:\\users\\dilee\\miniconda3\\lib\\site-packages (from langgraph) (0.3.68)\n",
      "Requirement already satisfied: pydantic>=2.7.4 in c:\\users\\dilee\\miniconda3\\lib\\site-packages (from langgraph) (2.10.6)\n",
      "Requirement already satisfied: langgraph-sdk<0.2.0,>=0.1.42 in c:\\users\\dilee\\miniconda3\\lib\\site-packages (from langgraph) (0.1.72)\n",
      "Requirement already satisfied: langgraph-checkpoint<3.0.0,>=2.1.0 in c:\\users\\dilee\\miniconda3\\lib\\site-packages (from langgraph) (2.1.0)\n",
      "Requirement already satisfied: langgraph-prebuilt<0.6.0,>=0.5.0 in c:\\users\\dilee\\miniconda3\\lib\\site-packages (from langgraph) (0.5.2)\n",
      "Requirement already satisfied: PyYAML>=5.3 in c:\\users\\dilee\\miniconda3\\lib\\site-packages (from langchain-core>=0.1->langgraph) (6.0.1)\n",
      "Requirement already satisfied: tenacity!=8.4.0,<10.0.0,>=8.1.0 in c:\\users\\dilee\\miniconda3\\lib\\site-packages (from langchain-core>=0.1->langgraph) (8.2.3)\n",
      "Requirement already satisfied: langsmith>=0.3.45 in c:\\users\\dilee\\miniconda3\\lib\\site-packages (from langchain-core>=0.1->langgraph) (0.4.4)\n",
      "Requirement already satisfied: typing-extensions>=4.7 in c:\\users\\dilee\\miniconda3\\lib\\site-packages (from langchain-core>=0.1->langgraph) (4.12.2)\n",
      "Requirement already satisfied: jsonpatch<2.0,>=1.33 in c:\\users\\dilee\\miniconda3\\lib\\site-packages (from langchain-core>=0.1->langgraph) (1.33)\n",
      "Requirement already satisfied: packaging<25,>=23.2 in c:\\users\\dilee\\miniconda3\\lib\\site-packages (from langchain-core>=0.1->langgraph) (23.2)\n",
      "Requirement already satisfied: ormsgpack>=1.10.0 in c:\\users\\dilee\\miniconda3\\lib\\site-packages (from langgraph-checkpoint<3.0.0,>=2.1.0->langgraph) (1.10.0)\n",
      "Requirement already satisfied: orjson>=3.10.1 in c:\\users\\dilee\\miniconda3\\lib\\site-packages (from langgraph-sdk<0.2.0,>=0.1.42->langgraph) (3.10.18)\n",
      "Requirement already satisfied: httpx>=0.25.2 in c:\\users\\dilee\\miniconda3\\lib\\site-packages (from langgraph-sdk<0.2.0,>=0.1.42->langgraph) (0.27.0)\n",
      "Requirement already satisfied: pydantic-core==2.27.2 in c:\\users\\dilee\\miniconda3\\lib\\site-packages (from pydantic>=2.7.4->langgraph) (2.27.2)\n",
      "Requirement already satisfied: annotated-types>=0.6.0 in c:\\users\\dilee\\miniconda3\\lib\\site-packages (from pydantic>=2.7.4->langgraph) (0.7.0)\n",
      "Requirement already satisfied: anyio in c:\\users\\dilee\\miniconda3\\lib\\site-packages (from httpx>=0.25.2->langgraph-sdk<0.2.0,>=0.1.42->langgraph) (4.2.0)\n",
      "Requirement already satisfied: idna in c:\\users\\dilee\\miniconda3\\lib\\site-packages (from httpx>=0.25.2->langgraph-sdk<0.2.0,>=0.1.42->langgraph) (3.4)\n",
      "Requirement already satisfied: httpcore==1.* in c:\\users\\dilee\\miniconda3\\lib\\site-packages (from httpx>=0.25.2->langgraph-sdk<0.2.0,>=0.1.42->langgraph) (1.0.2)\n",
      "Requirement already satisfied: certifi in c:\\users\\dilee\\miniconda3\\lib\\site-packages (from httpx>=0.25.2->langgraph-sdk<0.2.0,>=0.1.42->langgraph) (2024.8.30)\n",
      "Requirement already satisfied: sniffio in c:\\users\\dilee\\miniconda3\\lib\\site-packages (from httpx>=0.25.2->langgraph-sdk<0.2.0,>=0.1.42->langgraph) (1.3.0)\n",
      "Requirement already satisfied: h11<0.15,>=0.13 in c:\\users\\dilee\\miniconda3\\lib\\site-packages (from httpcore==1.*->httpx>=0.25.2->langgraph-sdk<0.2.0,>=0.1.42->langgraph) (0.14.0)\n",
      "Requirement already satisfied: jsonpointer>=1.9 in c:\\users\\dilee\\miniconda3\\lib\\site-packages (from jsonpatch<2.0,>=1.33->langchain-core>=0.1->langgraph) (2.1)\n",
      "Requirement already satisfied: requests-toolbelt<2.0.0,>=1.0.0 in c:\\users\\dilee\\miniconda3\\lib\\site-packages (from langsmith>=0.3.45->langchain-core>=0.1->langgraph) (1.0.0)\n",
      "Requirement already satisfied: requests<3,>=2 in c:\\users\\dilee\\miniconda3\\lib\\site-packages (from langsmith>=0.3.45->langchain-core>=0.1->langgraph) (2.32.3)\n",
      "Requirement already satisfied: zstandard<0.24.0,>=0.23.0 in c:\\users\\dilee\\miniconda3\\lib\\site-packages (from langsmith>=0.3.45->langchain-core>=0.1->langgraph) (0.23.0)\n",
      "Requirement already satisfied: urllib3<3,>=1.21.1 in c:\\users\\dilee\\miniconda3\\lib\\site-packages (from requests<3,>=2->langsmith>=0.3.45->langchain-core>=0.1->langgraph) (1.26.14)\n",
      "Requirement already satisfied: charset-normalizer<4,>=2 in c:\\users\\dilee\\miniconda3\\lib\\site-packages (from requests<3,>=2->langsmith>=0.3.45->langchain-core>=0.1->langgraph) (2.0.4)\n",
      "Requirement already satisfied: exceptiongroup>=1.0.2 in c:\\users\\dilee\\miniconda3\\lib\\site-packages (from anyio->httpx>=0.25.2->langgraph-sdk<0.2.0,>=0.1.42->langgraph) (1.2.0)\n"
     ]
    }
   ],
   "source": [
    "!pip install langgraph"
   ]
  },
  {
   "cell_type": "code",
   "execution_count": 4,
   "id": "b8737c94",
   "metadata": {},
   "outputs": [],
   "source": [
    "from typing import Dict, TypedDict\n",
    "from langgraph.graph import StateGraph  "
   ]
  },
  {
   "cell_type": "code",
   "execution_count": 11,
   "id": "f52a6e54",
   "metadata": {},
   "outputs": [],
   "source": [
    "# create agent state\n",
    "class AgentComplmentState(TypedDict):\n",
    "    name: str\n",
    "\n",
    "# create a complement node\n",
    "def complement_node(state: AgentComplmentState) -> AgentState:\n",
    "    \"\"\"A node that generates a personalized complement.\"\"\"\n",
    "    state[\"name\"]= f\"{state['name']}, You're doing an amazing job learning LangGraph\"\n",
    "    return state\n"
   ]
  },
  {
   "cell_type": "code",
   "execution_count": 12,
   "id": "d4ed3c95",
   "metadata": {},
   "outputs": [],
   "source": [
    "# create graph\n",
    "graph = StateGraph(AgentComplmentState)\n",
    "graph.set_entry_point(\"complement_node\")  # set entry node\n",
    "graph.add_node(\"complement_node\", complement_node)  # add node to the graph\n",
    "graph.set_finish_point(\"complement_node\")  # set finish node\n",
    "app = graph.compile()  # compile the graph\n"
   ]
  },
  {
   "cell_type": "code",
   "execution_count": 14,
   "id": "f59842b5",
   "metadata": {},
   "outputs": [
    {
     "data": {
      "image/png": "[encoded data removed]",
      "text/plain": [
       "<IPython.core.display.Image object>"
      ]
     },
     "metadata": {},
     "output_type": "display_data"
    }
   ],
   "source": [
    "from IPython.display import display,Image\n",
    "display(Image(app.get_graph().draw_mermaid_png()))"
   ]
  },
  {
   "cell_type": "code",
   "execution_count": 16,
   "id": "00befece",
   "metadata": {},
   "outputs": [
    {
     "data": {
      "text/plain": [
       "\"Bob, You're doing an amazing job learning LangGraph\""
      ]
     },
     "execution_count": 16,
     "metadata": {},
     "output_type": "execute_result"
    }
   ],
   "source": [
    "result = app.invoke(AgentComplmentState(name=\"Bob\"))  # invoke the app with initial state\n",
    "result[\"name\"]"
   ]
  },
  {
   "cell_type": "code",
   "execution_count": null,
   "id": "7ba183e2",
   "metadata": {},
   "outputs": [],
   "source": []
  },
  {
   "cell_type": "code",
   "execution_count": null,
   "id": "61442f0c",
   "metadata": {},
   "outputs": [],
   "source": []
  }
 ],
 "metadata": {
  "kernelspec": {
   "display_name": "Python 3",
   "language": "python",
   "name": "python3"
  },
  "language_info": {
   "codemirror_mode": {
    "name": "ipython",
    "version": 3
   },
   "file_extension": ".py",
   "mimetype": "text/x-python",
   "name": "python",
   "nbconvert_exporter": "python",
   "pygments_lexer": "ipython3",
   "version": "3.10.13"
  }
 },
 "nbformat": 4,
 "nbformat_minor": 5
}
