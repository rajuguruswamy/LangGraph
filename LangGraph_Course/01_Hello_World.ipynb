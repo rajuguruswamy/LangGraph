{
 "cells": [
  {
   "cell_type": "markdown",
   "id": "b556340f",
   "metadata": {},
   "source": [
    "## hello world Agent"
   ]
  },
  {
   "cell_type": "code",
   "execution_count": 2,
   "id": "19ea3170",
   "metadata": {},
   "outputs": [
    {
     "name": "stdout",
     "output_type": "stream",
     "text": [
      "Collecting langgraph\n",
      "  Downloading langgraph-0.5.1-py3-none-any.whl (143 kB)\n",
      "     ------------------------------------ 143.7/143.7 kB 775.9 kB/s eta 0:00:00\n",
      "Collecting langgraph-checkpoint<3.0.0,>=2.1.0\n",
      "  Downloading langgraph_checkpoint-2.1.0-py3-none-any.whl (43 kB)\n",
      "     ---------------------------------------- 43.8/43.8 kB ? eta 0:00:00\n",
      "Collecting langgraph-sdk<0.2.0,>=0.1.42\n",
      "  Downloading langgraph_sdk-0.1.72-py3-none-any.whl (50 kB)\n",
      "     ---------------------------------------- 50.1/50.1 kB ? eta 0:00:00\n",
      "Collecting xxhash>=3.5.0\n",
      "  Downloading xxhash-3.5.0-cp310-cp310-win_amd64.whl (30 kB)\n",
      "Collecting langgraph-prebuilt<0.6.0,>=0.5.0\n",
      "  Downloading langgraph_prebuilt-0.5.2-py3-none-any.whl (23 kB)\n",
      "Collecting langchain-core>=0.1\n",
      "  Downloading langchain_core-0.3.68-py3-none-any.whl (441 kB)\n",
      "     -------------------------------------- 441.4/441.4 kB 6.8 MB/s eta 0:00:00\n",
      "Requirement already satisfied: pydantic>=2.7.4 in c:\\users\\dilee\\miniconda3\\lib\\site-packages (from langgraph) (2.10.6)\n",
      "Requirement already satisfied: jsonpatch<2.0,>=1.33 in c:\\users\\dilee\\miniconda3\\lib\\site-packages (from langchain-core>=0.1->langgraph) (1.33)\n",
      "Collecting langsmith>=0.3.45\n",
      "  Downloading langsmith-0.4.4-py3-none-any.whl (367 kB)\n",
      "     -------------------------------------- 367.7/367.7 kB 7.6 MB/s eta 0:00:00\n",
      "Requirement already satisfied: packaging<25,>=23.2 in c:\\users\\dilee\\miniconda3\\lib\\site-packages (from langchain-core>=0.1->langgraph) (23.2)\n",
      "Requirement already satisfied: typing-extensions>=4.7 in c:\\users\\dilee\\miniconda3\\lib\\site-packages (from langchain-core>=0.1->langgraph) (4.12.2)\n",
      "Requirement already satisfied: tenacity!=8.4.0,<10.0.0,>=8.1.0 in c:\\users\\dilee\\miniconda3\\lib\\site-packages (from langchain-core>=0.1->langgraph) (8.2.3)\n",
      "Requirement already satisfied: PyYAML>=5.3 in c:\\users\\dilee\\miniconda3\\lib\\site-packages (from langchain-core>=0.1->langgraph) (6.0.1)\n",
      "Collecting ormsgpack>=1.10.0\n",
      "  Downloading ormsgpack-1.10.0-cp310-cp310-win_amd64.whl (121 kB)\n",
      "     ---------------------------------------- 121.2/121.2 kB ? eta 0:00:00\n",
      "Collecting orjson>=3.10.1\n",
      "  Downloading orjson-3.10.18-cp310-cp310-win_amd64.whl (134 kB)\n",
      "     -------------------------------------- 134.6/134.6 kB 8.3 MB/s eta 0:00:00\n",
      "Requirement already satisfied: httpx>=0.25.2 in c:\\users\\dilee\\miniconda3\\lib\\site-packages (from langgraph-sdk<0.2.0,>=0.1.42->langgraph) (0.27.0)\n",
      "Requirement already satisfied: pydantic-core==2.27.2 in c:\\users\\dilee\\miniconda3\\lib\\site-packages (from pydantic>=2.7.4->langgraph) (2.27.2)\n",
      "Requirement already satisfied: annotated-types>=0.6.0 in c:\\users\\dilee\\miniconda3\\lib\\site-packages (from pydantic>=2.7.4->langgraph) (0.7.0)\n",
      "Requirement already satisfied: httpcore==1.* in c:\\users\\dilee\\miniconda3\\lib\\site-packages (from httpx>=0.25.2->langgraph-sdk<0.2.0,>=0.1.42->langgraph) (1.0.2)\n",
      "Requirement already satisfied: idna in c:\\users\\dilee\\miniconda3\\lib\\site-packages (from httpx>=0.25.2->langgraph-sdk<0.2.0,>=0.1.42->langgraph) (3.4)\n",
      "Requirement already satisfied: anyio in c:\\users\\dilee\\miniconda3\\lib\\site-packages (from httpx>=0.25.2->langgraph-sdk<0.2.0,>=0.1.42->langgraph) (4.2.0)\n",
      "Requirement already satisfied: certifi in c:\\users\\dilee\\miniconda3\\lib\\site-packages (from httpx>=0.25.2->langgraph-sdk<0.2.0,>=0.1.42->langgraph) (2024.8.30)\n",
      "Requirement already satisfied: sniffio in c:\\users\\dilee\\miniconda3\\lib\\site-packages (from httpx>=0.25.2->langgraph-sdk<0.2.0,>=0.1.42->langgraph) (1.3.0)\n",
      "Requirement already satisfied: h11<0.15,>=0.13 in c:\\users\\dilee\\miniconda3\\lib\\site-packages (from httpcore==1.*->httpx>=0.25.2->langgraph-sdk<0.2.0,>=0.1.42->langgraph) (0.14.0)\n",
      "Requirement already satisfied: jsonpointer>=1.9 in c:\\users\\dilee\\miniconda3\\lib\\site-packages (from jsonpatch<2.0,>=1.33->langchain-core>=0.1->langgraph) (2.1)\n",
      "Requirement already satisfied: requests<3,>=2 in c:\\users\\dilee\\miniconda3\\lib\\site-packages (from langsmith>=0.3.45->langchain-core>=0.1->langgraph) (2.32.3)\n",
      "Collecting requests-toolbelt<2.0.0,>=1.0.0\n",
      "  Using cached requests_toolbelt-1.0.0-py2.py3-none-any.whl (54 kB)\n",
      "Collecting zstandard<0.24.0,>=0.23.0\n",
      "  Downloading zstandard-0.23.0-cp310-cp310-win_amd64.whl (495 kB)\n",
      "     ------------------------------------- 495.5/495.5 kB 15.7 MB/s eta 0:00:00\n",
      "Requirement already satisfied: charset-normalizer<4,>=2 in c:\\users\\dilee\\miniconda3\\lib\\site-packages (from requests<3,>=2->langsmith>=0.3.45->langchain-core>=0.1->langgraph) (2.0.4)\n",
      "Requirement already satisfied: urllib3<3,>=1.21.1 in c:\\users\\dilee\\miniconda3\\lib\\site-packages (from requests<3,>=2->langsmith>=0.3.45->langchain-core>=0.1->langgraph) (1.26.14)\n",
      "Requirement already satisfied: exceptiongroup>=1.0.2 in c:\\users\\dilee\\miniconda3\\lib\\site-packages (from anyio->httpx>=0.25.2->langgraph-sdk<0.2.0,>=0.1.42->langgraph) (1.2.0)\n",
      "Installing collected packages: zstandard, xxhash, ormsgpack, orjson, requests-toolbelt, langsmith, langgraph-sdk, langchain-core, langgraph-checkpoint, langgraph-prebuilt, langgraph\n",
      "  Attempting uninstall: zstandard\n",
      "    Found existing installation: zstandard 0.18.0\n",
      "    Uninstalling zstandard-0.18.0:\n",
      "      Successfully uninstalled zstandard-0.18.0\n",
      "Successfully installed langchain-core-0.3.68 langgraph-0.5.1 langgraph-checkpoint-2.1.0 langgraph-prebuilt-0.5.2 langgraph-sdk-0.1.72 langsmith-0.4.4 orjson-3.10.18 ormsgpack-1.10.0 requests-toolbelt-1.0.0 xxhash-3.5.0 zstandard-0.23.0\n"
     ]
    }
   ],
   "source": [
    "!pip install langgraph"
   ]
  },
  {
   "cell_type": "code",
   "execution_count": null,
   "id": "bdea55dd",
   "metadata": {},
   "outputs": [],
   "source": [
    "from typing  import Dict, TypedDict\n",
    "from langgraph.graph import StateGraph  # framework that help you design and manage the flow of your application using graph structures"
   ]
  },
  {
   "cell_type": "code",
   "execution_count": null,
   "id": "44700f4e",
   "metadata": {},
   "outputs": [],
   "source": [
    "# create agentstate \n",
    "class AgentState(TypedDict):  # state schema\n",
    "    message: str\n",
    "\n",
    "# create a node \n",
    "def greeting_node(state: AgentState) -> AgentState:\n",
    "    \"\"\"Simple node that greeting message to the node\"\"\"\n",
    "    state[\"message\"] =\"Hey \" + state[\"message\"] + \", how is your day going?\"\n",
    "    return state\n",
    "\n"
   ]
  },
  {
   "cell_type": "code",
   "execution_count": 14,
   "id": "7a567c28",
   "metadata": {},
   "outputs": [],
   "source": [
    "# create a graph\n",
    "graph = StateGraph(AgentState)\n",
    "graph.add_node(\"greeter\", greeting_node)  # add node to the graph\n",
    "graph.set_entry_point(\"greeter\")  # set entry node\n",
    "graph.set_finish_point(\"greeter\")  # set finish node\n",
    "app = graph.compile()  # compile the graph\n"
   ]
  },
  {
   "cell_type": "code",
   "execution_count": 16,
   "id": "9f038744",
   "metadata": {},
   "outputs": [
    {
     "data": {
      "image/png": "[encoded data removed]",
      "text/plain": [
       "<IPython.core.display.Image object>"
      ]
     },
     "metadata": {},
     "output_type": "display_data"
    }
   ],
   "source": [
    "from IPython.display import display,Image\n",
    "display(Image(app.get_graph().draw_mermaid_png()))  # display the graph"
   ]
  },
  {
   "cell_type": "code",
   "execution_count": 17,
   "id": "308593a7",
   "metadata": {},
   "outputs": [],
   "source": [
    "result  = app.invoke(AgentState(message=\"Raju\"))  # invoke the app with initial state"
   ]
  },
  {
   "cell_type": "code",
   "execution_count": 18,
   "id": "6bd2c15a",
   "metadata": {},
   "outputs": [
    {
     "data": {
      "text/plain": [
       "'Hey Raju, how is your day going?'"
      ]
     },
     "execution_count": 18,
     "metadata": {},
     "output_type": "execute_result"
    }
   ],
   "source": [
    "result[\"message\"]"
   ]
  },
  {
   "cell_type": "code",
   "execution_count": null,
   "id": "3737ce3e",
   "metadata": {},
   "outputs": [],
   "source": []
  },
  {
   "cell_type": "code",
   "execution_count": null,
   "id": "397ec211",
   "metadata": {},
   "outputs": [],
   "source": []
  }
 ],
 "metadata": {
  "kernelspec": {
   "display_name": "Python 3",
   "language": "python",
   "name": "python3"
  },
  "language_info": {
   "codemirror_mode": {
    "name": "ipython",
    "version": 3
   },
   "file_extension": ".py",
   "mimetype": "text/x-python",
   "name": "python",
   "nbconvert_exporter": "python",
   "pygments_lexer": "ipython3",
   "version": "3.10.13"
  }
 },
 "nbformat": 4,
 "nbformat_minor": 5
}
