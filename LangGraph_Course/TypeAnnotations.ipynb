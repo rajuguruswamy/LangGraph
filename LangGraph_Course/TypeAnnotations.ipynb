{
 "cells": [
  {
   "cell_type": "markdown",
   "id": "c0128286",
   "metadata": {},
   "source": [
    "### Type Annotations in Python"
   ]
  },
  {
   "cell_type": "code",
   "execution_count": 2,
   "id": "cd286446",
   "metadata": {},
   "outputs": [
    {
     "data": {
      "text/plain": [
       "{'name': 'Avengers: Endgame', 'year': 2019}"
      ]
     },
     "execution_count": 2,
     "metadata": {},
     "output_type": "execute_result"
    }
   ],
   "source": [
    "\n",
    "# Dictinary\n",
    "\n",
    "from typing import Any\n",
    "from typing import Optional\n",
    "from typing import Union\n",
    "from typing import TypedDict\n",
    "movie = {\"name\": \"Avengers: Endgame\",\n",
    "         \"year\": 2019, }\n",
    "\n",
    "movie"
   ]
  },
  {
   "cell_type": "code",
   "execution_count": 4,
   "id": "d1290ed3",
   "metadata": {},
   "outputs": [
    {
     "data": {
      "text/plain": [
       "{'name': 'Avengers: Endgame', 'year': 2019}"
      ]
     },
     "execution_count": 4,
     "metadata": {},
     "output_type": "execute_result"
    }
   ],
   "source": [
    "# Typed Dictionary\n",
    "class Movie (TypedDict):\n",
    "    name: str\n",
    "    year: int\n",
    "\n",
    "\n",
    "typed_movie = Movie(name=\"Avengers: Endgame\", year=2019)\n",
    "typed_movie"
   ]
  },
  {
   "cell_type": "code",
   "execution_count": 5,
   "id": "ccd623c3",
   "metadata": {},
   "outputs": [
    {
     "data": {
      "text/plain": [
       "26.2144"
      ]
     },
     "execution_count": 5,
     "metadata": {},
     "output_type": "execute_result"
    }
   ],
   "source": [
    "# Union Types\n",
    "def square(x: Union[int, float]) -> float:\n",
    "    return x * x\n",
    "\n",
    "x = 5\n",
    "square(x=x)\n",
    "\n",
    "y = 5.120\n",
    "square(x=y)\n",
    "# z = \"i am a string\"  # This will not raise an error, but is not recommended\n",
    "# square(x=z)"
   ]
  },
  {
   "cell_type": "code",
   "execution_count": 7,
   "id": "02ba9d97",
   "metadata": {},
   "outputs": [
    {
     "name": "stdout",
     "output_type": "stream",
     "text": [
      "Hello, stranger!\n",
      "Hello, Raju!\n"
     ]
    }
   ],
   "source": [
    "# optional types\n",
    "def nice_message(name: Optional[str]) -> None:\n",
    "    if name is None:\n",
    "        print(\"Hello, stranger!\")\n",
    "    else:\n",
    "        print(f\"Hello, {name}!\")\n",
    "\n",
    "nice_message(name=None)\n",
    "nice_message(name=\"Raju\")"
   ]
  },
  {
   "cell_type": "code",
   "execution_count": 11,
   "id": "c6154c83",
   "metadata": {},
   "outputs": [
    {
     "name": "stdout",
     "output_type": "stream",
     "text": [
      "I am a string\n",
      "42\n",
      "[1, 2, 3]\n",
      "{'key': 'value'}\n"
     ]
    }
   ],
   "source": [
    "# Any\n",
    "def print_value(x: Any):\n",
    "    print(x)\n",
    "\n",
    "print_value(\"I am a string\")\n",
    "print_value(42)\n",
    "print_value([1, 2, 3])\n",
    "print_value({\"key\": \"value\"})"
   ]
  },
  {
   "cell_type": "code",
   "execution_count": 12,
   "id": "718425f7",
   "metadata": {},
   "outputs": [
    {
     "name": "stdout",
     "output_type": "stream",
     "text": [
      "25\n"
     ]
    },
    {
     "data": {
      "text/plain": [
       "[1, 4, 9, 16, 25]"
      ]
     },
     "execution_count": 12,
     "metadata": {},
     "output_type": "execute_result"
    }
   ],
   "source": [
    "# Lambda Function\n",
    "def square_lambda(x): return x * x\n",
    "\n",
    "print(square_lambda(5))\n",
    "\n",
    "nums = [1, 2, 3, 4, 5]\n",
    "squared_nums = list(map(lambda x: x * x, nums))  # [1, 4, 9, 16, 25]\n",
    "squared_nums"
   ]
  }
 ],
 "metadata": {
  "kernelspec": {
   "display_name": "Python 3",
   "language": "python",
   "name": "python3"
  },
  "language_info": {
   "codemirror_mode": {
    "name": "ipython",
    "version": 3
   },
   "file_extension": ".py",
   "mimetype": "text/x-python",
   "name": "python",
   "nbconvert_exporter": "python",
   "pygments_lexer": "ipython3",
   "version": "3.10.13"
  }
 },
 "nbformat": 4,
 "nbformat_minor": 5
}
